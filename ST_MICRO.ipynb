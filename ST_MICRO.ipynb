{
  "nbformat": 4,
  "nbformat_minor": 0,
  "metadata": {
    "colab": {
      "provenance": []
    },
    "kernelspec": {
      "name": "python3",
      "display_name": "Python 3"
    },
    "language_info": {
      "name": "python"
    }
  },
  "cells": [
    {
      "cell_type": "markdown",
      "source": [
        " Red Phase (Write Failing Tests)\n",
        "\n",
        "---\n",
        "\n"
      ],
      "metadata": {
        "id": "udT-b_XGrpkN"
      }
    },
    {
      "cell_type": "code",
      "source": [
        "!pip install pytest"
      ],
      "metadata": {
        "colab": {
          "base_uri": "https://localhost:8080/"
        },
        "id": "Kbl0OZVGsrpG",
        "outputId": "6e9b6a3c-9f51-4e90-b9e2-6577d4278b1b"
      },
      "execution_count": null,
      "outputs": [
        {
          "output_type": "stream",
          "name": "stdout",
          "text": [
            "Requirement already satisfied: pytest in /usr/local/lib/python3.11/dist-packages (8.3.5)\n",
            "Requirement already satisfied: iniconfig in /usr/local/lib/python3.11/dist-packages (from pytest) (2.0.0)\n",
            "Requirement already satisfied: packaging in /usr/local/lib/python3.11/dist-packages (from pytest) (24.2)\n",
            "Requirement already satisfied: pluggy<2,>=1.5 in /usr/local/lib/python3.11/dist-packages (from pytest) (1.5.0)\n"
          ]
        }
      ]
    },
    {
      "cell_type": "code",
      "source": [
        "%%file test_calculator.py\n",
        "\n",
        "import pytest\n",
        "from calculator import Calculator\n",
        "\n",
        "def test_add():\n",
        "    calc = Calculator()\n",
        "    assert calc.add(2, 3) == 5  # Fails (Red)\n",
        "\n",
        "def test_subtract():\n",
        "    calc = Calculator()\n",
        "    assert calc.subtract(5, 3) == 2  # Fails (Red)\n",
        "\n",
        "def test_multiply():\n",
        "    calc = Calculator()\n",
        "    assert calc.multiply(3, 4) == 12  # Fails (Red)\n",
        "\n",
        "def test_divide():\n",
        "    calc = Calculator()\n",
        "    assert calc.divide(10, 2) == 5  # Fails (Red)\n",
        "\n",
        "def test_divide_by_zero():\n",
        "    calc = Calculator()\n",
        "    with pytest.raises(ValueError):  # Fails (Red)\n",
        "        calc.divide(10, 0)"
      ],
      "metadata": {
        "colab": {
          "base_uri": "https://localhost:8080/"
        },
        "id": "3elzvJlmsIXX",
        "outputId": "89607e23-a66e-4eea-ae67-65aadd143ce8"
      },
      "execution_count": null,
      "outputs": [
        {
          "output_type": "stream",
          "name": "stdout",
          "text": [
            "Overwriting test_calculator.py\n"
          ]
        }
      ]
    },
    {
      "cell_type": "code",
      "source": [
        "!pytest test_calculator.py -v"
      ],
      "metadata": {
        "id": "p9B24Qjlub_9",
        "outputId": "b7c782a7-9044-44ee-cf8e-7d18b26b7689",
        "colab": {
          "base_uri": "https://localhost:8080/"
        }
      },
      "execution_count": null,
      "outputs": [
        {
          "output_type": "stream",
          "name": "stdout",
          "text": [
            "\u001b[1m======================================= test session starts ========================================\u001b[0m\n",
            "platform linux -- Python 3.11.11, pytest-8.3.5, pluggy-1.5.0 -- /usr/bin/python3\n",
            "cachedir: .pytest_cache\n",
            "rootdir: /content\n",
            "plugins: typeguard-4.4.2, langsmith-0.3.13, anyio-3.7.1\n",
            "\u001b[1mcollecting ... \u001b[0m\u001b[1m\rcollected 5 items                                                                                  \u001b[0m\n",
            "\n",
            "test_calculator.py::test_add \u001b[32mPASSED\u001b[0m\u001b[32m                                                          [ 20%]\u001b[0m\n",
            "test_calculator.py::test_subtract \u001b[31mFAILED\u001b[0m\u001b[31m                                                     [ 40%]\u001b[0m\n",
            "test_calculator.py::test_multiply \u001b[31mFAILED\u001b[0m\u001b[31m                                                     [ 60%]\u001b[0m\n",
            "test_calculator.py::test_divide \u001b[31mFAILED\u001b[0m\u001b[31m                                                       [ 80%]\u001b[0m\n",
            "test_calculator.py::test_divide_by_zero \u001b[31mFAILED\u001b[0m\u001b[31m                                               [100%]\u001b[0m\n",
            "\n",
            "============================================= FAILURES =============================================\n",
            "\u001b[31m\u001b[1m__________________________________________ test_subtract ___________________________________________\u001b[0m\n",
            "\n",
            "    \u001b[0m\u001b[94mdef\u001b[39;49;00m \u001b[92mtest_subtract\u001b[39;49;00m():\u001b[90m\u001b[39;49;00m\n",
            "        calc = Calculator()\u001b[90m\u001b[39;49;00m\n",
            ">       \u001b[94massert\u001b[39;49;00m calc.subtract(\u001b[94m5\u001b[39;49;00m, \u001b[94m3\u001b[39;49;00m) == \u001b[94m2\u001b[39;49;00m  \u001b[90m# Fails (Red)\u001b[39;49;00m\u001b[90m\u001b[39;49;00m\n",
            "\u001b[1m\u001b[31mE       assert None == 2\u001b[0m\n",
            "\u001b[1m\u001b[31mE        +  where None = subtract(5, 3)\u001b[0m\n",
            "\u001b[1m\u001b[31mE        +    where subtract = <calculator.Calculator object at 0x14c3b209f850>.subtract\u001b[0m\n",
            "\n",
            "\u001b[1m\u001b[31mtest_calculator.py\u001b[0m:11: AssertionError\n",
            "\u001b[31m\u001b[1m__________________________________________ test_multiply ___________________________________________\u001b[0m\n",
            "\n",
            "    \u001b[0m\u001b[94mdef\u001b[39;49;00m \u001b[92mtest_multiply\u001b[39;49;00m():\u001b[90m\u001b[39;49;00m\n",
            "        calc = Calculator()\u001b[90m\u001b[39;49;00m\n",
            ">       \u001b[94massert\u001b[39;49;00m calc.multiply(\u001b[94m3\u001b[39;49;00m, \u001b[94m4\u001b[39;49;00m) == \u001b[94m12\u001b[39;49;00m  \u001b[90m# Fails (Red)\u001b[39;49;00m\u001b[90m\u001b[39;49;00m\n",
            "\u001b[1m\u001b[31mE       assert None == 12\u001b[0m\n",
            "\u001b[1m\u001b[31mE        +  where None = multiply(3, 4)\u001b[0m\n",
            "\u001b[1m\u001b[31mE        +    where multiply = <calculator.Calculator object at 0x14c3b2066650>.multiply\u001b[0m\n",
            "\n",
            "\u001b[1m\u001b[31mtest_calculator.py\u001b[0m:15: AssertionError\n",
            "\u001b[31m\u001b[1m___________________________________________ test_divide ____________________________________________\u001b[0m\n",
            "\n",
            "    \u001b[0m\u001b[94mdef\u001b[39;49;00m \u001b[92mtest_divide\u001b[39;49;00m():\u001b[90m\u001b[39;49;00m\n",
            "        calc = Calculator()\u001b[90m\u001b[39;49;00m\n",
            ">       \u001b[94massert\u001b[39;49;00m calc.divide(\u001b[94m10\u001b[39;49;00m, \u001b[94m2\u001b[39;49;00m) == \u001b[94m5\u001b[39;49;00m  \u001b[90m# Fails (Red)\u001b[39;49;00m\u001b[90m\u001b[39;49;00m\n",
            "\u001b[1m\u001b[31mE       assert None == 5\u001b[0m\n",
            "\u001b[1m\u001b[31mE        +  where None = divide(10, 2)\u001b[0m\n",
            "\u001b[1m\u001b[31mE        +    where divide = <calculator.Calculator object at 0x14c3b20cb050>.divide\u001b[0m\n",
            "\n",
            "\u001b[1m\u001b[31mtest_calculator.py\u001b[0m:19: AssertionError\n",
            "\u001b[31m\u001b[1m_______________________________________ test_divide_by_zero ________________________________________\u001b[0m\n",
            "\n",
            "    \u001b[0m\u001b[94mdef\u001b[39;49;00m \u001b[92mtest_divide_by_zero\u001b[39;49;00m():\u001b[90m\u001b[39;49;00m\n",
            "        calc = Calculator()\u001b[90m\u001b[39;49;00m\n",
            ">       \u001b[94mwith\u001b[39;49;00m pytest.raises(\u001b[96mValueError\u001b[39;49;00m):  \u001b[90m# Fails (Red)\u001b[39;49;00m\u001b[90m\u001b[39;49;00m\n",
            "\u001b[1m\u001b[31mE       Failed: DID NOT RAISE <class 'ValueError'>\u001b[0m\n",
            "\n",
            "\u001b[1m\u001b[31mtest_calculator.py\u001b[0m:23: Failed\n",
            "\u001b[36m\u001b[1m===================================== short test summary info ======================================\u001b[0m\n",
            "\u001b[31mFAILED\u001b[0m test_calculator.py::\u001b[1mtest_subtract\u001b[0m - assert None == 2\n",
            "\u001b[31mFAILED\u001b[0m test_calculator.py::\u001b[1mtest_multiply\u001b[0m - assert None == 12\n",
            "\u001b[31mFAILED\u001b[0m test_calculator.py::\u001b[1mtest_divide\u001b[0m - assert None == 5\n",
            "\u001b[31mFAILED\u001b[0m test_calculator.py::\u001b[1mtest_divide_by_zero\u001b[0m - Failed: DID NOT RAISE <class 'ValueError'>\n",
            "\u001b[31m=================================== \u001b[31m\u001b[1m4 failed\u001b[0m, \u001b[32m1 passed\u001b[0m\u001b[31m in 0.07s\u001b[0m\u001b[31m ====================================\u001b[0m\n"
          ]
        }
      ]
    },
    {
      "cell_type": "code",
      "source": [
        "%%file calculator.py\n",
        "\n",
        "class Calculator:\n",
        "    def add(self, a, b):\n",
        "        return a + b\n",
        "    def subtract(self, a, b):\n",
        "        pass\n",
        "\n",
        "    def multiply(self, a, b):\n",
        "        pass\n",
        "    def divide(self, a, b):\n",
        "        pass\n",
        "        # if b == 0:\n",
        "        #     raise ValueError(\"Cannot divide by zero\")  # Passes (Green)\n",
        "        # return a / b  # Passes (Green)"
      ],
      "metadata": {
        "colab": {
          "base_uri": "https://localhost:8080/"
        },
        "id": "v9oOJWNoUSIx",
        "outputId": "3a49b8cf-718f-4e6c-eb1b-da8c5cd19625"
      },
      "execution_count": null,
      "outputs": [
        {
          "output_type": "stream",
          "name": "stdout",
          "text": [
            "Overwriting calculator.py\n"
          ]
        }
      ]
    },
    {
      "cell_type": "markdown",
      "source": [
        "Green Phase (Write Minimal Code to Pass Tests)"
      ],
      "metadata": {
        "id": "6dWTqmMksVjH"
      }
    },
    {
      "cell_type": "code",
      "source": [
        "%%file calculator.py\n",
        "\n",
        "class Calculator:\n",
        "    def add(self, a, b):\n",
        "         return a + b  # Passes (Green)\n",
        "\n",
        "    def subtract(self, a, b):\n",
        "        return a - b  # Passes (Green)\n",
        "\n",
        "    def multiply(self, a, b):\n",
        "        return a * b  # Passes (Green)\n",
        "\n",
        "    def divide(self, a, b):\n",
        "        if b == 0:\n",
        "            raise ValueError(\"Cannot divide by zero\")  # Passes (Green)\n",
        "        return a / b  # Passes (Green)"
      ],
      "metadata": {
        "colab": {
          "base_uri": "https://localhost:8080/"
        },
        "id": "TyQkLY6vsXEQ",
        "outputId": "a8359840-a69f-44c5-a9d5-797f79d623dc"
      },
      "execution_count": null,
      "outputs": [
        {
          "output_type": "stream",
          "name": "stdout",
          "text": [
            "Overwriting calculator.py\n"
          ]
        }
      ]
    },
    {
      "cell_type": "markdown",
      "source": [],
      "metadata": {
        "id": "Fz2UXMJDsi_4"
      }
    },
    {
      "cell_type": "code",
      "source": [
        "# !pytest test_calculator.py -v"
      ],
      "metadata": {
        "id": "4d4Wp4aHsjZN"
      },
      "execution_count": null,
      "outputs": []
    },
    {
      "cell_type": "markdown",
      "source": [
        "Refactor Phase (Improve the Code)"
      ],
      "metadata": {
        "id": "5rKYJ1sYtE1T"
      }
    },
    {
      "cell_type": "code",
      "source": [
        "%%file calculator.py\n",
        "\n",
        "class Calculator:\n",
        "    def _validate_input(self, a, b):\n",
        "        if not isinstance(a, (int, float)) or not isinstance(b, (int, float)):\n",
        "            raise TypeError(\"Inputs must be numbers\")\n",
        "\n",
        "    def add(self, a, b):\n",
        "        self._validate_input(a, b)  # Refactor\n",
        "        return a + b\n",
        "\n",
        "    def subtract(self, a, b):\n",
        "        self._validate_input(a, b)  # Refactor\n",
        "        return a - b\n",
        "\n",
        "    def multiply(self, a, b):\n",
        "        self._validate_input(a, b)  # Refactor\n",
        "        return a * b\n",
        "\n",
        "    def divide(self, a, b):\n",
        "        self._validate_input(a, b)  # Refactor\n",
        "        if b == 0:\n",
        "            raise ValueError(\"Cannot divide by zero\")\n",
        "        return a / b"
      ],
      "metadata": {
        "colab": {
          "base_uri": "https://localhost:8080/"
        },
        "id": "X-Xg1hYntJAC",
        "outputId": "022ff7e0-53a9-446d-c80d-3b9ef011b414"
      },
      "execution_count": null,
      "outputs": [
        {
          "output_type": "stream",
          "name": "stdout",
          "text": [
            "Overwriting calculator.py\n"
          ]
        }
      ]
    },
    {
      "cell_type": "markdown",
      "source": [
        "Re-run the Tests (Ensure Refactoring Didn’t Break Anything)"
      ],
      "metadata": {
        "id": "kO27AEUJtaYP"
      }
    },
    {
      "cell_type": "code",
      "source": [
        " !pytest test_calculator.py -v"
      ],
      "metadata": {
        "colab": {
          "base_uri": "https://localhost:8080/"
        },
        "id": "236xd2xFtbPK",
        "outputId": "16120874-8c14-4193-d8a3-e909cc35a122"
      },
      "execution_count": null,
      "outputs": [
        {
          "output_type": "stream",
          "name": "stdout",
          "text": [
            "\u001b[1m======================================= test session starts ========================================\u001b[0m\n",
            "platform linux -- Python 3.11.11, pytest-8.3.5, pluggy-1.5.0 -- /usr/bin/python3\n",
            "cachedir: .pytest_cache\n",
            "rootdir: /content\n",
            "plugins: typeguard-4.4.2, langsmith-0.3.13, anyio-3.7.1\n",
            "\u001b[1mcollecting ... \u001b[0m\u001b[1m\rcollected 5 items                                                                                  \u001b[0m\n",
            "\n",
            "test_calculator.py::test_add \u001b[32mPASSED\u001b[0m\u001b[32m                                                          [ 20%]\u001b[0m\n",
            "test_calculator.py::test_subtract \u001b[32mPASSED\u001b[0m\u001b[32m                                                     [ 40%]\u001b[0m\n",
            "test_calculator.py::test_multiply \u001b[32mPASSED\u001b[0m\u001b[32m                                                     [ 60%]\u001b[0m\n",
            "test_calculator.py::test_divide \u001b[32mPASSED\u001b[0m\u001b[32m                                                       [ 80%]\u001b[0m\n",
            "test_calculator.py::test_divide_by_zero \u001b[32mPASSED\u001b[0m\u001b[32m                                               [100%]\u001b[0m\n",
            "\n",
            "\u001b[32m======================================== \u001b[32m\u001b[1m5 passed\u001b[0m\u001b[32m in 0.01s\u001b[0m\u001b[32m =========================================\u001b[0m\n"
          ]
        }
      ]
    }
  ]
}